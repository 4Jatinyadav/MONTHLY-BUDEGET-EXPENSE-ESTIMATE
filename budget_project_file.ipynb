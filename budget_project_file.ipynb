{
 "cells": [
  {
   "cell_type": "markdown",
   "metadata": {},
   "source": [
    " Project "
   ]
  },
  {
   "cell_type": "code",
   "execution_count": 1,
   "metadata": {},
   "outputs": [],
   "source": [
    "def monthlybudget():\n",
    "    print(\"                                   YOUR MONTHLY BUDGET ESTIMATE                                    \")\n",
    "    overallbudget=int(input(\"Enter your overall monthly budget: \"))\n",
    "    selection=0\n",
    "    while selection!='4':\n",
    "        print('1=Add on Expense')\n",
    "        print('2=Substract on Expense')\n",
    "        print('3=Add on Revenue')\n",
    "        print('4=Subtract on Revenue')\n",
    "        print('5=End')\n",
    "        \n",
    "        selection=int(input())\n",
    "        if selection==1:\n",
    "            overallbudget=addonexpense(overallbudget)\n",
    "        elif selection==2:\n",
    "            overallbudget=subtractonexpense(overallbudget)\n",
    "        elif selection==3:\n",
    "            overallbudget=addonrevenue(overallbudget)\n",
    "        elif selection==4:\n",
    "            overallbudget=subtractonrevenue(overallbudget)  \n",
    "        elif selection==5:\n",
    "            print(\"Thank you\")\n",
    "        else:\n",
    "            print(\"Wrong entry please choose other option\")\n",
    "def addonexpense(overallbudget):\n",
    "    billing=int(input(\"Enter the expense amount: \"))\n",
    "    manybill=int(input(\"Enter the frquency of expense per month: \"))\n",
    "    completebill=billing*manybill\n",
    "    overallbudget=overallbudget-completebill\n",
    "    checkbudget(overallbudget)\n",
    "    return overallbudget\n",
    "def subtractonexpense(overallbudget):\n",
    "    lessbill=int(input(\"Enter the amount to be subtracted: \"))\n",
    "    manybill=int(input(\"Enter the frquency of expense subtracted  per month: \"))\n",
    "    totalless=lessbill*manybill\n",
    "    if totalless<=(overallbudget):\n",
    "        \n",
    "        overallbudget=overallbudget+totalless\n",
    "        checkbudget(overallbudget)\n",
    "    else:\n",
    "        print(\"Please re-check the amount entered:\")\n",
    "        return overallbudget\n",
    "def addonrevenue(overallbudget):\n",
    "    income=int(input(\"Enter the amount of additional income: \"))\n",
    "    overallbudget=overallbudget+income\n",
    "    checkbudget(overallbudget)\n",
    "    return overallbudget   \n",
    "def subtractonrevenue(overallbudget):\n",
    "    lossincome=int(input(\"Enter the  amount of income to be removed: \"))\n",
    "    overallbudget=overallbudget-lossincome\n",
    "    checkbudget(overallbudget)\n",
    "    return overallbudget\n",
    "def checkbudget(overallbudget):\n",
    "    if overallbudget>=0:\n",
    "        print(\"Overall remaining budget is: \",overallbudget)\n",
    "    else:\n",
    "        print(\"You monthly budget limit crossed:\")\n",
    "        print(\"Re-evaulate your expense and balance the budget:\")\n",
    "        print(\"Current Balance: \",overallbudget)\n",
    "        "
   ]
  },
  {
   "cell_type": "code",
   "execution_count": null,
   "metadata": {},
   "outputs": [
    {
     "name": "stdout",
     "output_type": "stream",
     "text": [
      "                                   YOUR MONTHLY BUDGET ESTIMATE                                    \n",
      "Enter your overall monthly budget: 2\n",
      "1=Add on Expense\n",
      "2=Substract on Expense\n",
      "3=Add on Revenue\n",
      "4=Subtract on Revenue\n",
      "5=End\n",
      "500\n",
      "Wrong entry please choose other option\n",
      "1=Add on Expense\n",
      "2=Substract on Expense\n",
      "3=Add on Revenue\n",
      "4=Subtract on Revenue\n",
      "5=End\n",
      "2\n",
      "Enter the amount to be subtracted: 5\n",
      "Enter the frquency of expense subtracted  per month: 5\n",
      "Please re-check the amount entered:\n",
      "1=Add on Expense\n",
      "2=Substract on Expense\n",
      "3=Add on Revenue\n",
      "4=Subtract on Revenue\n",
      "5=End\n",
      "5\n",
      "Thank you\n",
      "1=Add on Expense\n",
      "2=Substract on Expense\n",
      "3=Add on Revenue\n",
      "4=Subtract on Revenue\n",
      "5=End\n"
     ]
    }
   ],
   "source": [
    "monthlybudget()"
   ]
  },
  {
   "cell_type": "code",
   "execution_count": null,
   "metadata": {},
   "outputs": [],
   "source": []
  }
 ],
 "metadata": {
  "kernelspec": {
   "display_name": "Python 3",
   "language": "python",
   "name": "python3"
  },
  "language_info": {
   "codemirror_mode": {
    "name": "ipython",
    "version": 3
   },
   "file_extension": ".py",
   "mimetype": "text/x-python",
   "name": "python",
   "nbconvert_exporter": "python",
   "pygments_lexer": "ipython3",
   "version": "3.8.3"
  }
 },
 "nbformat": 4,
 "nbformat_minor": 2
}
